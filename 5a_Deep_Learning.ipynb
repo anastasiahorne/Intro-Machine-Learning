{
 "cells": [
  {
   "cell_type": "markdown",
   "metadata": {},
   "source": [
    "## CSCI 470 Activities and Case Studies\n",
    "\n",
    "1. For all activities, you are allowed to collaborate with a partner. \n",
    "1. For case studies, you should work individually and are **not** allowed to collaborate.\n",
    "\n",
    "By filling out this notebook and submitting it, you acknowledge that you are aware of the above policies and are agreeing to comply with them."
   ]
  },
  {
   "cell_type": "markdown",
   "metadata": {},
   "source": [
    "Some considerations with regard to how these notebooks will be graded:\n",
    "\n",
    "1. Cells in which \"# YOUR CODE HERE\" is found are the cells where your graded code should be written.\n",
    "2. In order to test out or debug your code you may also create notebook cells or edit existing notebook cells other than \"# YOUR CODE HERE\". We actually highly recommend you do so to gain a better understanding of what is happening. However, during grading, **these changes are ignored**. \n",
    "3. You must ensure that all your code for the particular task is available in the cells that say \"# YOUR CODE HERE\"\n",
    "4. Every cell that says \"# YOUR CODE HERE\" is followed by a \"raise NotImplementedError\". You need to remove that line. During grading, if an error occurs then you will lose points for your work in that section.\n",
    "5. If your code passes the \"assert\" statements, then no output will result. If your code fails the \"assert\" statements, you will get an \"AssertionError\". Getting an assertion error means you will not receive points for that particular task.\n",
    "6. If you edit the \"assert\" statements to make your code pass, they will still fail when they are graded since the autograder will ignore the modified \"assert\" statement. Make sure you don't edit the assert statements.\n",
    "7. We may sometimes have \"hidden\" tests for grading. This means that passing the visible \"assert\" statements is not sufficient. The \"assert\" statements are there as a guide but you need to make sure you understand what you're required to do and ensure that you are doing it correctly. Passing the visible tests is necessary but not sufficient to get the grade for that cell.\n",
    "8. When you are asked to define a function, make sure you **don't** use any variables outside of the parameters passed to the function. You can think of the parameters being passed to the function as a hint. Make sure you're using all of those variables.\n",
    "9. The **Grading** section at the end of the document (before the **Feedback** section) contains some code for our autograder on GradeScope. You are expected to fail this block of code in your Jupyter environment. DO NOT edit this block of code, or you may not get points for your assignment.\n",
    "10. Finally, **make sure you run \"Kernel > Restart and Run All\"** and pass all the asserts before submitting. If you don't restart the kernel, there may be some code that you ran and deleted that is still being used and that was why your asserts were passing."
   ]
  },
  {
   "cell_type": "markdown",
   "metadata": {
    "deletable": false,
    "editable": false,
    "id": "peZlh40I73Ql",
    "nbgrader": {
     "cell_type": "markdown",
     "checksum": "24167670d09bdb61d1a595ce5cbb79c9",
     "grade": false,
     "grade_id": "cell-4fb3a6f3d58fd28b",
     "locked": true,
     "schema_version": 3,
     "solution": false
    }
   },
   "source": [
    "# Deep Learning\n",
    "\n",
    "In this exercise, you will use a deep neural network to predict the values of houses based on some provided input data. You will use keras to build the model. Below is a description of how the keras models are set up."
   ]
  },
  {
   "cell_type": "code",
   "execution_count": 1,
   "metadata": {
    "id": "BklNQ52d73Qx",
    "nbgrader": {
     "grade": false,
     "grade_id": "cell-d07727b5ced87bf2",
     "locked": false,
     "schema_version": 3,
     "solution": false
    }
   },
   "outputs": [],
   "source": [
    "import tensorflow as tf\n",
    "import tensorflow.keras as keras\n",
    "import numpy as np\n",
    "from tensorflow.keras import Sequential\n",
    "from tensorflow.keras.layers import Dense, Dropout\n",
    "from tensorflow.keras.optimizers import SGD, Adam\n",
    "\n",
    "import pandas as pd\n",
    "import sklearn\n",
    "from sklearn.datasets import fetch_california_housing\n",
    "from sklearn.model_selection import train_test_split\n",
    "\n",
    "import matplotlib.pyplot as plt\n",
    "\n",
    "plt.style.use(\"ggplot\")\n",
    "np.random.seed(0)\n",
    "tf.random.set_seed(0)"
   ]
  },
  {
   "cell_type": "code",
   "execution_count": 2,
   "metadata": {
    "id": "lOEAeGxU73Qz"
   },
   "outputs": [],
   "source": [
    "house_data = fetch_california_housing()"
   ]
  },
  {
   "cell_type": "code",
   "execution_count": 3,
   "metadata": {
    "colab": {
     "base_uri": "https://localhost:8080/"
    },
    "id": "Rstw6PPE73Q1",
    "outputId": "16071adb-1b4f-4319-b7ca-b3857a7f0a1e"
   },
   "outputs": [
    {
     "name": "stdout",
     "output_type": "stream",
     "text": [
      ".. _california_housing_dataset:\n",
      "\n",
      "California Housing dataset\n",
      "--------------------------\n",
      "\n",
      "**Data Set Characteristics:**\n",
      "\n",
      "    :Number of Instances: 20640\n",
      "\n",
      "    :Number of Attributes: 8 numeric, predictive attributes and the target\n",
      "\n",
      "    :Attribute Information:\n",
      "        - MedInc        median income in block group\n",
      "        - HouseAge      median house age in block group\n",
      "        - AveRooms      average number of rooms per household\n",
      "        - AveBedrms     average number of bedrooms per household\n",
      "        - Population    block group population\n",
      "        - AveOccup      average number of household members\n",
      "        - Latitude      block group latitude\n",
      "        - Longitude     block group longitude\n",
      "\n",
      "    :Missing Attribute Values: None\n",
      "\n",
      "This dataset was obtained from the StatLib repository.\n",
      "https://www.dcc.fc.up.pt/~ltorgo/Regression/cal_housing.html\n",
      "\n",
      "The target variable is the median house value for California districts,\n",
      "expressed in hundreds of thousands of dollars ($100,000).\n",
      "\n",
      "This dataset was derived from the 1990 U.S. census, using one row per census\n",
      "block group. A block group is the smallest geographical unit for which the U.S.\n",
      "Census Bureau publishes sample data (a block group typically has a population\n",
      "of 600 to 3,000 people).\n",
      "\n",
      "A household is a group of people residing within a home. Since the average\n",
      "number of rooms and bedrooms in this dataset are provided per household, these\n",
      "columns may take surprisingly large values for block groups with few households\n",
      "and many empty houses, such as vacation resorts.\n",
      "\n",
      "It can be downloaded/loaded using the\n",
      ":func:`sklearn.datasets.fetch_california_housing` function.\n",
      "\n",
      ".. topic:: References\n",
      "\n",
      "    - Pace, R. Kelley and Ronald Barry, Sparse Spatial Autoregressions,\n",
      "      Statistics and Probability Letters, 33 (1997) 291-297\n",
      "\n"
     ]
    }
   ],
   "source": [
    "print(house_data[\"DESCR\"])"
   ]
  },
  {
   "cell_type": "code",
   "execution_count": 4,
   "metadata": {
    "id": "V6yomxx_73Q2",
    "nbgrader": {
     "grade": false,
     "grade_id": "cell-9b0245844d72bf80",
     "locked": false,
     "schema_version": 3,
     "solution": false
    }
   },
   "outputs": [],
   "source": [
    "house_features = pd.DataFrame(house_data[\"data\"], columns=house_data[\"feature_names\"])\n",
    "house_prices = pd.Series(house_data[\"target\"])\n",
    "x_train, x_test, y_train, y_test = train_test_split(house_features, house_prices, test_size=0.2, random_state=0)"
   ]
  },
  {
   "cell_type": "code",
   "execution_count": 5,
   "metadata": {
    "colab": {
     "base_uri": "https://localhost:8080/"
    },
    "id": "JS1WEyq473Q2",
    "nbgrader": {
     "grade": false,
     "grade_id": "cell-e2de7844f2c7f49e",
     "locked": false,
     "schema_version": 3,
     "solution": false
    },
    "outputId": "c3dd00a5-8855-4564-c79e-b819d94822e5"
   },
   "outputs": [
    {
     "data": {
      "text/plain": [
       "(16512, 8)"
      ]
     },
     "execution_count": 5,
     "metadata": {},
     "output_type": "execute_result"
    }
   ],
   "source": [
    "x_train.shape"
   ]
  },
  {
   "cell_type": "markdown",
   "metadata": {
    "id": "YDDMD-fc73Q2"
   },
   "source": [
    "This tells us that there are 16512 samples with 8 features each."
   ]
  },
  {
   "cell_type": "code",
   "execution_count": 6,
   "metadata": {
    "colab": {
     "base_uri": "https://localhost:8080/"
    },
    "id": "JJUWPv5M73Q3",
    "nbgrader": {
     "grade": false,
     "grade_id": "cell-33b45d559f48738f",
     "locked": false,
     "schema_version": 3,
     "solution": false
    },
    "outputId": "6f5432c9-f09b-4cfa-9278-3cbb4dce0bc9"
   },
   "outputs": [
    {
     "data": {
      "text/plain": [
       "(16512,)"
      ]
     },
     "execution_count": 6,
     "metadata": {},
     "output_type": "execute_result"
    }
   ],
   "source": [
    "y_train.shape"
   ]
  },
  {
   "cell_type": "markdown",
   "metadata": {
    "id": "Zw7tYjwQ73Q3"
   },
   "source": [
    "This tells us that there are 16512 samples of a single target."
   ]
  },
  {
   "cell_type": "code",
   "execution_count": 7,
   "metadata": {
    "colab": {
     "base_uri": "https://localhost:8080/"
    },
    "id": "X4LXZO6b73Q4",
    "nbgrader": {
     "grade": false,
     "grade_id": "cell-831e0268417ab95a",
     "locked": false,
     "schema_version": 3,
     "solution": false
    },
    "outputId": "c9476dac-551b-45c4-ee78-e207ab056a43"
   },
   "outputs": [
    {
     "data": {
      "text/plain": [
       "(2.072498958938953, 1.1569151048305375, 0.14999, 5.00001)"
      ]
     },
     "execution_count": 7,
     "metadata": {},
     "output_type": "execute_result"
    }
   ],
   "source": [
    "y_train.mean(), y_train.std(), y_train.min(), y_train.max()"
   ]
  },
  {
   "cell_type": "markdown",
   "metadata": {
    "deletable": false,
    "editable": false,
    "id": "4RNTghM_73Q4",
    "nbgrader": {
     "cell_type": "markdown",
     "checksum": "d7c48fef23f2aa185655ff27a0f3859a",
     "grade": false,
     "grade_id": "cell-2f0fe3b3a560d952",
     "locked": true,
     "schema_version": 3,
     "solution": false
    }
   },
   "source": [
    "The keras model consists of multiple parts:\n",
    "\n",
    "1. Construct the model layers, neurons per layer, and activation functions\n",
    "1. Determine the loss function, metrics, and optimization method\n",
    "1. Fit the model to some data\n",
    "1. Evaluate the model using the same metric\n",
    "\n",
    "Some relevant docs:\n",
    " - [initializers](https://keras.io/initializers/)\n",
    " - [loss functions](https://www.tensorflow.org/api_docs/python/tf/keras/losses)\n",
    " - [regularizations](https://keras.io/regularizers/)\n",
    " - [optimizers](https://keras.io/optimizers/)\n",
    " - [metrics](https://www.tensorflow.org/api_docs/python/tf/keras/metrics)\n"
   ]
  },
  {
   "cell_type": "markdown",
   "metadata": {
    "deletable": false,
    "editable": false,
    "id": "5uuYQoLp73Q4",
    "nbgrader": {
     "cell_type": "markdown",
     "checksum": "bf844c11123af1ac74291ba99ac72d3e",
     "grade": false,
     "grade_id": "cell-cae21934fa064b47",
     "locked": true,
     "schema_version": 3,
     "solution": false
    }
   },
   "source": [
    "First, to construct a model, use the [Sequential](https://keras.io/getting-started/sequential-model-guide/) object. You can pass a list of layers to the sequential object. For this exercise, we will only be using the [Dense](https://keras.io/layers/core/#dense) layers."
   ]
  },
  {
   "cell_type": "code",
   "execution_count": 15,
   "metadata": {
    "deletable": false,
    "id": "K6PeTXhf73Q7",
    "nbgrader": {
     "cell_type": "code",
     "checksum": "4d2aac7a6df929de0a6c49c73b3aea00",
     "grade": false,
     "grade_id": "cell-51879de7032d8823",
     "locked": false,
     "schema_version": 3,
     "solution": true
    }
   },
   "outputs": [
    {
     "name": "stdout",
     "output_type": "stream",
     "text": [
      "Model: \"sequential_2\"\n",
      "_________________________________________________________________\n",
      " Layer (type)                Output Shape              Param #   \n",
      "=================================================================\n",
      " input_layer (Dense)         (None, 100)               900       \n",
      "                                                                 \n",
      " layer_1 (Dense)             (None, 100)               10100     \n",
      "                                                                 \n",
      " layer_2 (Dense)             (None, 100)               10100     \n",
      "                                                                 \n",
      " output_layer (Dense)        (None, 1)                 101       \n",
      "                                                                 \n",
      "=================================================================\n",
      "Total params: 21201 (82.82 KB)\n",
      "Trainable params: 21201 (82.82 KB)\n",
      "Non-trainable params: 0 (0.00 Byte)\n",
      "_________________________________________________________________\n"
     ]
    }
   ],
   "source": [
    "# Create a list of layers with the variable name \"layers\".\n",
    "#\n",
    "# - The list should contain 3 consecutive hidden layers with 100 neurons each,\n",
    "#   and an output layer with 1 neuron. \n",
    "# - In the first layer, you should specify an input_shape. It is not necessary to do so\n",
    "#   in subsequent layers.\n",
    "# - The output layer should have 1 neuron because we are predicting a single regression target.\n",
    "# - Use any activation you like such as \"relu\" or \"tanh\", you can alternate for each layer\n",
    "#   For your first run, try using the linear activation and then see if modifying the activations\n",
    "#   improves the result.\n",
    "\n",
    "# Pass the list to keras.Sequential and save the returned model to the variable name \"model\".\n",
    "\n",
    "# Optional - give each layer a name and see how that shows up in the model summary.\n",
    "\n",
    "# YOUR CODE HERE\n",
    "\n",
    "\n",
    "layers = [\n",
    "    keras.layers.Dense(100, input_shape=(8,), activation='linear', name='input_layer'),\n",
    "    keras.layers.Dense(100, activation='relu', name='layer_1'),\n",
    "    keras.layers.Dense(100, activation='tanh', name='layer_2'),\n",
    "    keras.layers.Dense(1, activation='relu', name='output_layer')\n",
    "]\n",
    "\n",
    "model = keras.Sequential(layers)\n",
    "\n",
    "model.summary()"
   ]
  },
  {
   "cell_type": "code",
   "execution_count": 17,
   "metadata": {
    "deletable": false,
    "editable": false,
    "id": "_xI-mvPz73Q8",
    "nbgrader": {
     "cell_type": "code",
     "checksum": "bdcadadcfa2f93a7140b16760cc8c79a",
     "grade": true,
     "grade_id": "cell-ee74eff075f222ed",
     "locked": true,
     "points": 5,
     "schema_version": 3,
     "solution": false
    }
   },
   "outputs": [],
   "source": [
    "assert isinstance(model, Sequential)\n",
    "assert len(layers) == 4\n",
    "for i, layer in enumerate(layers):\n",
    "    assert isinstance(layers[i], Dense)\n",
    "    assert layer.weights[1].shape == [100, 100, 100, 1][i]"
   ]
  },
  {
   "cell_type": "code",
   "execution_count": 18,
   "metadata": {},
   "outputs": [],
   "source": [
    "initial_weights = model.get_weights()"
   ]
  },
  {
   "cell_type": "markdown",
   "metadata": {
    "id": "ET37Z5F273Q8"
   },
   "source": [
    "In TensorFlow, models are \"compiled\" before training. Compiling specifies the type of optimizer (e.g., gradient descent) and loss function, and creates code that will run efficiently on your hardware during training and model prediction.\n",
    "\n",
    "Review the model's `compile()` method, and use it to create compiled code in the cell below.  \n",
    "https://www.tensorflow.org/api_docs/python/tf/keras/Model#compile\n",
    "\n",
    "In this notebook we'll use the [stochastic gradient descent (SGD)](https://www.tensorflow.org/api_docs/python/tf/keras/optimizers/SGD) and the [Adam](https://www.tensorflow.org/api_docs/python/tf/keras/optimizers/Adam) optimizers."
   ]
  },
  {
   "cell_type": "code",
   "execution_count": 19,
   "metadata": {
    "deletable": false,
    "id": "M1HSCPWV73Q8",
    "nbgrader": {
     "cell_type": "code",
     "checksum": "c2964c3f063261c63a62d89a699e3c69",
     "grade": false,
     "grade_id": "cell-9c5dcca57115d02a",
     "locked": false,
     "schema_version": 3,
     "solution": true
    }
   },
   "outputs": [],
   "source": [
    "# - Instantiate an SGD optimizer with learning rate of 1e-7, and save it as \"optimizer\"\n",
    "# - Apply the model's .compile() method to set it up for training.\n",
    "#   - Note that you can use each loss and metric's string name rather\n",
    "#     than instantiating a loss or metric object, and passing the object.\n",
    "#     Because we want to set a non-defaul learning rate, we must\n",
    "#     instantiate an optimizer object and pass that to compile(), rather\n",
    "#     than an optimizer string name.\n",
    "\n",
    "# Set up the model to do the following:\n",
    "# - use stochastic gradient descent (sgd) to fit the model (via your 'optimizer' object)\n",
    "# - use mean absolute error (mae) as its *loss function*\n",
    "# - use mean absolute error (mae) as one of its *metrics*\n",
    "# - use mean squared error (mae) as one of its *metrics*\n",
    "\n",
    "# YOUR CODE HERE\n",
    "\n",
    "optimizer = SGD(learning_rate=1e-7)\n",
    "model.compile(\n",
    "    optimizer=optimizer,    \n",
    "    loss='mae',         \n",
    "    metrics=['mae', 'mse']\n",
    ")\n"
   ]
  },
  {
   "cell_type": "code",
   "execution_count": 20,
   "metadata": {
    "deletable": false,
    "editable": false,
    "id": "rPDkIZNE73RA",
    "nbgrader": {
     "cell_type": "code",
     "checksum": "7834482fb4dcda0fbfd736e59ef85ab7",
     "grade": true,
     "grade_id": "cell-0746e29c34118826",
     "locked": true,
     "points": 5,
     "schema_version": 3,
     "solution": false
    }
   },
   "outputs": [],
   "source": [
    "assert isinstance(model.optimizer, keras.optimizers.SGD)\n",
    "assert model.loss in [\"mae\", \"mean_absolute_error\"]"
   ]
  },
  {
   "cell_type": "markdown",
   "metadata": {},
   "source": [
    "Now we'll train the model for 50 epochs with a batch size of 1000. This means the following:\n",
    "\n",
    "- The training set will be split into batches, each composed of 1000 samples.\n",
    "- Each batch will be processed by the neural network to produce 1000 predications.\n",
    "- The predictions will be compared against the targets to compute the losses.\n",
    "- The loss values are passed backwards through the network to compute the loss gradients for those 1000 samples.\n",
    "- Via the SGD procedure, the averages of those 1000 gradients are used to update the model's parameters.\n",
    "- After all batches have been processed in this manner, one \"epoch\" has been completed.\n",
    "- This is done again and again until the number of specified epochs (50) are completed."
   ]
  },
  {
   "cell_type": "code",
   "execution_count": 21,
   "metadata": {
    "colab": {
     "base_uri": "https://localhost:8080/"
    },
    "id": "rHtGEIqL73RE",
    "nbgrader": {
     "grade": false,
     "grade_id": "cell-d8bbd77fa779d371",
     "locked": false,
     "schema_version": 3,
     "solution": false
    },
    "outputId": "dd978455-1a58-4ba2-c1b8-a0d506c08be2"
   },
   "outputs": [
    {
     "name": "stdout",
     "output_type": "stream",
     "text": [
      "Epoch 1/50\n",
      "17/17 [==============================] - 0s 3ms/step - loss: 1.5642 - mae: 1.5642 - mse: 3.8133\n",
      "Epoch 2/50\n",
      "17/17 [==============================] - 0s 3ms/step - loss: 1.5324 - mae: 1.5324 - mse: 3.7199\n",
      "Epoch 3/50\n",
      "17/17 [==============================] - 0s 3ms/step - loss: 1.5146 - mae: 1.5146 - mse: 3.6681\n",
      "Epoch 4/50\n",
      "17/17 [==============================] - 0s 3ms/step - loss: 1.5025 - mae: 1.5025 - mse: 3.6323\n",
      "Epoch 5/50\n",
      "17/17 [==============================] - 0s 3ms/step - loss: 1.4930 - mae: 1.4930 - mse: 3.6036\n",
      "Epoch 6/50\n",
      "17/17 [==============================] - 0s 3ms/step - loss: 1.4849 - mae: 1.4849 - mse: 3.5789\n",
      "Epoch 7/50\n",
      "17/17 [==============================] - 0s 2ms/step - loss: 1.4778 - mae: 1.4778 - mse: 3.5564\n",
      "Epoch 8/50\n",
      "17/17 [==============================] - 0s 3ms/step - loss: 1.4711 - mae: 1.4711 - mse: 3.5355\n",
      "Epoch 9/50\n",
      "17/17 [==============================] - 0s 3ms/step - loss: 1.4649 - mae: 1.4649 - mse: 3.5157\n",
      "Epoch 10/50\n",
      "17/17 [==============================] - 0s 3ms/step - loss: 1.4590 - mae: 1.4590 - mse: 3.4968\n",
      "Epoch 11/50\n",
      "17/17 [==============================] - 0s 3ms/step - loss: 1.4533 - mae: 1.4533 - mse: 3.4784\n",
      "Epoch 12/50\n",
      "17/17 [==============================] - 0s 3ms/step - loss: 1.4478 - mae: 1.4478 - mse: 3.4606\n",
      "Epoch 13/50\n",
      "17/17 [==============================] - 0s 3ms/step - loss: 1.4424 - mae: 1.4424 - mse: 3.4432\n",
      "Epoch 14/50\n",
      "17/17 [==============================] - 0s 3ms/step - loss: 1.4371 - mae: 1.4371 - mse: 3.4261\n",
      "Epoch 15/50\n",
      "17/17 [==============================] - 0s 3ms/step - loss: 1.4319 - mae: 1.4319 - mse: 3.4092\n",
      "Epoch 16/50\n",
      "17/17 [==============================] - 0s 3ms/step - loss: 1.4268 - mae: 1.4268 - mse: 3.3927\n",
      "Epoch 17/50\n",
      "17/17 [==============================] - 0s 3ms/step - loss: 1.4218 - mae: 1.4218 - mse: 3.3763\n",
      "Epoch 18/50\n",
      "17/17 [==============================] - 0s 3ms/step - loss: 1.4167 - mae: 1.4167 - mse: 3.3600\n",
      "Epoch 19/50\n",
      "17/17 [==============================] - 0s 3ms/step - loss: 1.4117 - mae: 1.4117 - mse: 3.3439\n",
      "Epoch 20/50\n",
      "17/17 [==============================] - 0s 3ms/step - loss: 1.4067 - mae: 1.4067 - mse: 3.3279\n",
      "Epoch 21/50\n",
      "17/17 [==============================] - 0s 3ms/step - loss: 1.4017 - mae: 1.4017 - mse: 3.3118\n",
      "Epoch 22/50\n",
      "17/17 [==============================] - 0s 2ms/step - loss: 1.3967 - mae: 1.3967 - mse: 3.2956\n",
      "Epoch 23/50\n",
      "17/17 [==============================] - 0s 3ms/step - loss: 1.3916 - mae: 1.3916 - mse: 3.2794\n",
      "Epoch 24/50\n",
      "17/17 [==============================] - 0s 3ms/step - loss: 1.3864 - mae: 1.3864 - mse: 3.2630\n",
      "Epoch 25/50\n",
      "17/17 [==============================] - 0s 2ms/step - loss: 1.3811 - mae: 1.3811 - mse: 3.2461\n",
      "Epoch 26/50\n",
      "17/17 [==============================] - 0s 3ms/step - loss: 1.3757 - mae: 1.3757 - mse: 3.2288\n",
      "Epoch 27/50\n",
      "17/17 [==============================] - 0s 2ms/step - loss: 1.3701 - mae: 1.3701 - mse: 3.2112\n",
      "Epoch 28/50\n",
      "17/17 [==============================] - 0s 4ms/step - loss: 1.3642 - mae: 1.3642 - mse: 3.1930\n",
      "Epoch 29/50\n",
      "17/17 [==============================] - 0s 2ms/step - loss: 1.3581 - mae: 1.3581 - mse: 3.1738\n",
      "Epoch 30/50\n",
      "17/17 [==============================] - 0s 3ms/step - loss: 1.3517 - mae: 1.3517 - mse: 3.1536\n",
      "Epoch 31/50\n",
      "17/17 [==============================] - 0s 2ms/step - loss: 1.3448 - mae: 1.3448 - mse: 3.1323\n",
      "Epoch 32/50\n",
      "17/17 [==============================] - 0s 2ms/step - loss: 1.3373 - mae: 1.3373 - mse: 3.1093\n",
      "Epoch 33/50\n",
      "17/17 [==============================] - 0s 3ms/step - loss: 1.3290 - mae: 1.3290 - mse: 3.0841\n",
      "Epoch 34/50\n",
      "17/17 [==============================] - 0s 2ms/step - loss: 1.3201 - mae: 1.3201 - mse: 3.0566\n",
      "Epoch 35/50\n",
      "17/17 [==============================] - 0s 2ms/step - loss: 1.3100 - mae: 1.3100 - mse: 3.0267\n",
      "Epoch 36/50\n",
      "17/17 [==============================] - 0s 2ms/step - loss: 1.2986 - mae: 1.2986 - mse: 2.9932\n",
      "Epoch 37/50\n",
      "17/17 [==============================] - 0s 2ms/step - loss: 1.2855 - mae: 1.2855 - mse: 2.9560\n",
      "Epoch 38/50\n",
      "17/17 [==============================] - 0s 2ms/step - loss: 1.2720 - mae: 1.2720 - mse: 2.9189\n",
      "Epoch 39/50\n",
      "17/17 [==============================] - 0s 2ms/step - loss: 1.2598 - mae: 1.2598 - mse: 2.8849\n",
      "Epoch 40/50\n",
      "17/17 [==============================] - 0s 2ms/step - loss: 1.2529 - mae: 1.2529 - mse: 2.8651\n",
      "Epoch 41/50\n",
      "17/17 [==============================] - 0s 2ms/step - loss: 1.2492 - mae: 1.2492 - mse: 2.8536\n",
      "Epoch 42/50\n",
      "17/17 [==============================] - 0s 3ms/step - loss: 1.2465 - mae: 1.2465 - mse: 2.8451\n",
      "Epoch 43/50\n",
      "17/17 [==============================] - 0s 3ms/step - loss: 1.2442 - mae: 1.2442 - mse: 2.8377\n",
      "Epoch 44/50\n",
      "17/17 [==============================] - 0s 3ms/step - loss: 1.2422 - mae: 1.2422 - mse: 2.8310\n",
      "Epoch 45/50\n",
      "17/17 [==============================] - 0s 2ms/step - loss: 1.2403 - mae: 1.2403 - mse: 2.8246\n",
      "Epoch 46/50\n",
      "17/17 [==============================] - 0s 2ms/step - loss: 1.2384 - mae: 1.2384 - mse: 2.8185\n",
      "Epoch 47/50\n",
      "17/17 [==============================] - 0s 3ms/step - loss: 1.2366 - mae: 1.2366 - mse: 2.8125\n",
      "Epoch 48/50\n",
      "17/17 [==============================] - 0s 3ms/step - loss: 1.2349 - mae: 1.2349 - mse: 2.8068\n",
      "Epoch 49/50\n",
      "17/17 [==============================] - 0s 2ms/step - loss: 1.2332 - mae: 1.2332 - mse: 2.8012\n",
      "Epoch 50/50\n",
      "17/17 [==============================] - 0s 3ms/step - loss: 1.2316 - mae: 1.2316 - mse: 2.7957\n"
     ]
    }
   ],
   "source": [
    "# Now fit the model\n",
    "n_epochs = 50\n",
    "history = model.fit(x_train, y_train, batch_size=1000, epochs=n_epochs)"
   ]
  },
  {
   "cell_type": "markdown",
   "metadata": {},
   "source": [
    "We had you set the learning rate to a very small value, so you could seed the iterative improvement across training epochs. More typicaly learning rates are 1e-3 or 1e-4, but the housing data is so \"simple\" relative to the power of our neural network, we would have had pretty good convergence within a single epoch, and you would not have been able to observe the more typical, steady progress to convergence."
   ]
  },
  {
   "cell_type": "code",
   "execution_count": 22,
   "metadata": {},
   "outputs": [
    {
     "name": "stdout",
     "output_type": "stream",
     "text": [
      "Training loss on the final epoch was: 1.2316\n"
     ]
    },
    {
     "data": {
      "image/png": "[encoded data removed]",
      "text/plain": [
       "<Figure size 1200x400 with 2 Axes>"
      ]
     },
     "metadata": {},
     "output_type": "display_data"
    }
   ],
   "source": [
    "# Let's plot the training set loss as a function of training epoch, as well\n",
    "# as the metric scores. In general, if you don't see your loss curve flatten\n",
    "# at the end of the training session, you'l want to increase the number of\n",
    "# training epochs, or increase the learning rate.\n",
    "#\n",
    "# In this case, if it doesn't look nearly flat than you've likely specified\n",
    "# your model or learning rate incorrectly.\n",
    "\n",
    "plt.figure(figsize=(12, 4))\n",
    "plt.subplot(1, 2, 1)\n",
    "plt.plot(np.arange(1, n_epochs+1), history.history['loss'])\n",
    "plt.title('Training set loss')\n",
    "plt.xlabel('Epoch')\n",
    "plt.ylabel('Loss')\n",
    "\n",
    "plt.subplot(1, 2, 2)\n",
    "plt.semilogy(np.arange(1, n_epochs+1), history.history['mae'], label='mae')\n",
    "plt.semilogy(np.arange(1, n_epochs+1), history.history['mse'], label='mse')\n",
    "plt.legend()\n",
    "plt.title('Training set metric scores')\n",
    "plt.xlabel('Epoch')\n",
    "plt.ylabel('Error')\n",
    "\n",
    "print(f\"Training loss on the final epoch was: {history.history['loss'][-1]:0.4f}\")"
   ]
  },
  {
   "cell_type": "code",
   "execution_count": 23,
   "metadata": {
    "colab": {
     "base_uri": "https://localhost:8080/"
    },
    "id": "u-9dv4rc73RE",
    "nbgrader": {
     "grade": false,
     "grade_id": "cell-d280c00c6cabc586",
     "locked": false,
     "schema_version": 3,
     "solution": false
    },
    "outputId": "eabd296a-771e-485c-b912-2839e0c10fad"
   },
   "outputs": [
    {
     "name": "stdout",
     "output_type": "stream",
     "text": [
      "129/129 [==============================] - 0s 1ms/step - loss: 1.2054 - mae: 1.2054 - mse: 2.6856\n"
     ]
    },
    {
     "data": {
      "text/plain": [
       "[1.205396056175232, 1.205396056175232, 2.6855924129486084]"
      ]
     },
     "execution_count": 23,
     "metadata": {},
     "output_type": "execute_result"
    }
   ],
   "source": [
    "# Here we can evaluate how our model does based on the test data\n",
    "model.evaluate(x_test, y_test)"
   ]
  },
  {
   "cell_type": "markdown",
   "metadata": {
    "deletable": false,
    "editable": false,
    "id": "HjQ6dSYs73RF",
    "nbgrader": {
     "cell_type": "markdown",
     "checksum": "326bc26a2d582914d7afc0a6aef3f52a",
     "grade": false,
     "grade_id": "cell-f88eeeebe2137b4d",
     "locked": true,
     "schema_version": 3,
     "solution": false
    }
   },
   "source": [
    "Now let's try another optimizer instead of stochastic gradient descent (SGD). [Adam](https://keras.io/optimizers/#adam) is the recommended default for training neural networks since it usually performs quite well. In the next cell, compile the model with Adam instead of SGD and use the same loss and metrics. After compiling, fit the data for as many epochs as you think it takes to see the value start to converge."
   ]
  },
  {
   "cell_type": "code",
   "execution_count": 24,
   "metadata": {
    "colab": {
     "base_uri": "https://localhost:8080/"
    },
    "deletable": false,
    "id": "tbkjvYLx73RF",
    "nbgrader": {
     "cell_type": "code",
     "checksum": "31fc47c0632aae2847e9b28ad900c2fe",
     "grade": false,
     "grade_id": "cell-bee688f3d919be61",
     "locked": false,
     "schema_version": 3,
     "solution": true
    },
    "outputId": "137f80d5-78fa-4648-810d-9b1a87173888"
   },
   "outputs": [
    {
     "name": "stdout",
     "output_type": "stream",
     "text": [
      "Epoch 1/50\n",
      "17/17 [==============================] - 1s 5ms/step - loss: 1.3641 - mae: 1.3641 - mse: 3.1994\n",
      "Epoch 2/50\n",
      "17/17 [==============================] - 0s 3ms/step - loss: 1.1275 - mae: 1.1275 - mse: 2.4324\n",
      "Epoch 3/50\n",
      "17/17 [==============================] - 0s 3ms/step - loss: 1.0419 - mae: 1.0419 - mse: 2.1222\n",
      "Epoch 4/50\n",
      "17/17 [==============================] - 0s 3ms/step - loss: 0.9837 - mae: 0.9837 - mse: 1.9026\n",
      "Epoch 5/50\n",
      "17/17 [==============================] - 0s 3ms/step - loss: 0.9454 - mae: 0.9454 - mse: 1.7551\n",
      "Epoch 6/50\n",
      "17/17 [==============================] - 0s 3ms/step - loss: 0.9237 - mae: 0.9237 - mse: 1.6639\n",
      "Epoch 7/50\n",
      "17/17 [==============================] - 0s 3ms/step - loss: 0.9118 - mae: 0.9118 - mse: 1.6048\n",
      "Epoch 8/50\n",
      "17/17 [==============================] - 0s 3ms/step - loss: 0.9050 - mae: 0.9050 - mse: 1.5662\n",
      "Epoch 9/50\n",
      "17/17 [==============================] - 0s 3ms/step - loss: 0.8994 - mae: 0.8994 - mse: 1.5355\n",
      "Epoch 10/50\n",
      "17/17 [==============================] - 0s 3ms/step - loss: 0.8949 - mae: 0.8949 - mse: 1.5077\n",
      "Epoch 11/50\n",
      "17/17 [==============================] - 0s 3ms/step - loss: 0.8903 - mae: 0.8903 - mse: 1.4834\n",
      "Epoch 12/50\n",
      "17/17 [==============================] - 0s 3ms/step - loss: 0.8871 - mae: 0.8871 - mse: 1.4601\n",
      "Epoch 13/50\n",
      "17/17 [==============================] - 0s 3ms/step - loss: 0.8856 - mae: 0.8856 - mse: 1.4417\n",
      "Epoch 14/50\n",
      "17/17 [==============================] - 0s 2ms/step - loss: 0.8844 - mae: 0.8844 - mse: 1.4381\n",
      "Epoch 15/50\n",
      "17/17 [==============================] - 0s 2ms/step - loss: 0.8824 - mae: 0.8824 - mse: 1.4256\n",
      "Epoch 16/50\n",
      "17/17 [==============================] - 0s 3ms/step - loss: 0.8806 - mae: 0.8806 - mse: 1.4193\n",
      "Epoch 17/50\n",
      "17/17 [==============================] - 0s 3ms/step - loss: 0.8787 - mae: 0.8787 - mse: 1.4121\n",
      "Epoch 18/50\n",
      "17/17 [==============================] - 0s 3ms/step - loss: 0.8779 - mae: 0.8779 - mse: 1.4038\n",
      "Epoch 19/50\n",
      "17/17 [==============================] - 0s 3ms/step - loss: 0.8758 - mae: 0.8758 - mse: 1.3987\n",
      "Epoch 20/50\n",
      "17/17 [==============================] - 0s 3ms/step - loss: 0.8746 - mae: 0.8746 - mse: 1.3909\n",
      "Epoch 21/50\n",
      "17/17 [==============================] - 0s 3ms/step - loss: 0.8732 - mae: 0.8732 - mse: 1.3855\n",
      "Epoch 22/50\n",
      "17/17 [==============================] - 0s 3ms/step - loss: 0.8721 - mae: 0.8721 - mse: 1.3796\n",
      "Epoch 23/50\n",
      "17/17 [==============================] - 0s 2ms/step - loss: 0.8714 - mae: 0.8714 - mse: 1.3777\n",
      "Epoch 24/50\n",
      "17/17 [==============================] - 0s 2ms/step - loss: 0.8708 - mae: 0.8708 - mse: 1.3777\n",
      "Epoch 25/50\n",
      "17/17 [==============================] - 0s 2ms/step - loss: 0.8701 - mae: 0.8701 - mse: 1.3740\n",
      "Epoch 26/50\n",
      "17/17 [==============================] - 0s 3ms/step - loss: 0.8689 - mae: 0.8689 - mse: 1.3675\n",
      "Epoch 27/50\n",
      "17/17 [==============================] - 0s 3ms/step - loss: 0.8684 - mae: 0.8684 - mse: 1.3639\n",
      "Epoch 28/50\n",
      "17/17 [==============================] - 0s 3ms/step - loss: 0.8672 - mae: 0.8672 - mse: 1.3572\n",
      "Epoch 29/50\n",
      "17/17 [==============================] - 0s 2ms/step - loss: 0.8666 - mae: 0.8666 - mse: 1.3592\n",
      "Epoch 30/50\n",
      "17/17 [==============================] - 0s 3ms/step - loss: 0.8664 - mae: 0.8664 - mse: 1.3537\n",
      "Epoch 31/50\n",
      "17/17 [==============================] - 0s 2ms/step - loss: 0.8644 - mae: 0.8644 - mse: 1.3503\n",
      "Epoch 32/50\n",
      "17/17 [==============================] - 0s 3ms/step - loss: 0.8636 - mae: 0.8636 - mse: 1.3457\n",
      "Epoch 33/50\n",
      "17/17 [==============================] - 0s 3ms/step - loss: 0.8625 - mae: 0.8625 - mse: 1.3426\n",
      "Epoch 34/50\n",
      "17/17 [==============================] - 0s 2ms/step - loss: 0.8609 - mae: 0.8609 - mse: 1.3354\n",
      "Epoch 35/50\n",
      "17/17 [==============================] - 0s 2ms/step - loss: 0.8588 - mae: 0.8588 - mse: 1.3298\n",
      "Epoch 36/50\n",
      "17/17 [==============================] - 0s 3ms/step - loss: 0.8566 - mae: 0.8566 - mse: 1.3215\n",
      "Epoch 37/50\n",
      "17/17 [==============================] - 0s 3ms/step - loss: 0.8553 - mae: 0.8553 - mse: 1.3174\n",
      "Epoch 38/50\n",
      "17/17 [==============================] - 0s 3ms/step - loss: 0.8526 - mae: 0.8526 - mse: 1.3079\n",
      "Epoch 39/50\n",
      "17/17 [==============================] - 0s 3ms/step - loss: 0.8518 - mae: 0.8518 - mse: 1.3035\n",
      "Epoch 40/50\n",
      "17/17 [==============================] - 0s 3ms/step - loss: 0.8521 - mae: 0.8521 - mse: 1.3020\n",
      "Epoch 41/50\n",
      "17/17 [==============================] - 0s 2ms/step - loss: 0.8497 - mae: 0.8497 - mse: 1.3015\n",
      "Epoch 42/50\n",
      "17/17 [==============================] - 0s 3ms/step - loss: 0.8494 - mae: 0.8494 - mse: 1.2959\n",
      "Epoch 43/50\n",
      "17/17 [==============================] - 0s 2ms/step - loss: 0.8485 - mae: 0.8485 - mse: 1.2937\n",
      "Epoch 44/50\n",
      "17/17 [==============================] - 0s 3ms/step - loss: 0.8505 - mae: 0.8505 - mse: 1.2979\n",
      "Epoch 45/50\n",
      "17/17 [==============================] - 0s 4ms/step - loss: 0.8494 - mae: 0.8494 - mse: 1.2939\n",
      "Epoch 46/50\n",
      "17/17 [==============================] - 0s 3ms/step - loss: 0.8467 - mae: 0.8467 - mse: 1.2887\n",
      "Epoch 47/50\n",
      "17/17 [==============================] - 0s 3ms/step - loss: 0.8460 - mae: 0.8460 - mse: 1.2867\n",
      "Epoch 48/50\n",
      "17/17 [==============================] - 0s 3ms/step - loss: 0.8454 - mae: 0.8454 - mse: 1.2883\n",
      "Epoch 49/50\n",
      "17/17 [==============================] - 0s 2ms/step - loss: 0.8453 - mae: 0.8453 - mse: 1.2840\n",
      "Epoch 50/50\n",
      "17/17 [==============================] - 0s 2ms/step - loss: 0.8446 - mae: 0.8446 - mse: 1.2827\n"
     ]
    },
    {
     "data": {
      "text/plain": [
       "<keras.src.callbacks.History at 0x29b16bbe2d0>"
      ]
     },
     "execution_count": 24,
     "metadata": {},
     "output_type": "execute_result"
    }
   ],
   "source": [
    "# - Instantiate an Adam optimizer with learning rate of 1e-5, and save it as \"optimizer\"\n",
    "# - Recompile the model using Adam and the same loss and metrics as previously\n",
    "# - Call .fit() to train you model, using a batch size of 1000. You choose the number of epochs.\n",
    "# - Note that we are now using a larger learning rate, so convergence\n",
    "#   should occur more quickly.\n",
    "\n",
    "# Before starting, we'll reset the model parameters back to their original,\n",
    "# random state, so we aren't trying to train an already trained model.\n",
    "model.set_weights(initial_weights)\n",
    "\n",
    "# YOUR CODE HERE\n",
    "optimizer = Adam(learning_rate=1e-5)\n",
    "model.compile(\n",
    "    optimizer=optimizer,\n",
    "    loss='mae',\n",
    "    metrics=['mae','mse']\n",
    ")\n",
    "\n",
    "model.fit(x_train, y_train, batch_size=1000, epochs=50)\n",
    "\n"
   ]
  },
  {
   "cell_type": "code",
   "execution_count": 26,
   "metadata": {
    "deletable": false,
    "editable": false,
    "id": "p1qfXNGA73RG",
    "nbgrader": {
     "cell_type": "code",
     "checksum": "526079ba3785fa572cc21eb9fd5fb7af",
     "grade": true,
     "grade_id": "cell-fe8cd91b8b780964",
     "locked": true,
     "points": 5,
     "schema_version": 3,
     "solution": false
    }
   },
   "outputs": [],
   "source": [
    "assert isinstance(model.optimizer, keras.optimizers.Adam)\n",
    "assert model.loss in [\"mae\", \"mean_absolute_error\"]"
   ]
  },
  {
   "cell_type": "code",
   "execution_count": 27,
   "metadata": {
    "id": "W_t7W2xD73RG"
   },
   "outputs": [],
   "source": [
    "# You can optionally visualize the model here, with some added package installs.\n",
    "\n",
    "# tf.keras.utils.plot_model(model, show_shapes=True, show_layer_names=True)"
   ]
  },
  {
   "cell_type": "code",
   "execution_count": 28,
   "metadata": {},
   "outputs": [
    {
     "name": "stdout",
     "output_type": "stream",
     "text": [
      "Training loss on the final epoch was: 1.2316\n"
     ]
    },
    {
     "data": {
      "image/png": "[encoded data removed]",
      "text/plain": [
       "<Figure size 1200x400 with 2 Axes>"
      ]
     },
     "metadata": {},
     "output_type": "display_data"
    }
   ],
   "source": [
    "# Let's plot the training loss and metric scores again\n",
    "\n",
    "plt.figure(figsize=(12, 4))\n",
    "plt.subplot(1, 2, 1)\n",
    "plt.plot(np.arange(1, n_epochs+1), history.history['loss'])\n",
    "plt.title('Training set loss')\n",
    "plt.xlabel('Epoch')\n",
    "plt.ylabel('Loss')\n",
    "\n",
    "plt.subplot(1, 2, 2)\n",
    "plt.semilogy(np.arange(1, n_epochs+1), history.history['mae'], label='mae')\n",
    "plt.semilogy(np.arange(1, n_epochs+1), history.history['mse'], label='mse')\n",
    "plt.legend()\n",
    "plt.title('Training set metric scores')\n",
    "plt.xlabel('Epoch')\n",
    "plt.ylabel('Error')\n",
    "\n",
    "print(f\"Training loss on the final epoch was: {history.history['loss'][-1]:0.4f}\")"
   ]
  },
  {
   "cell_type": "code",
   "execution_count": 29,
   "metadata": {
    "colab": {
     "base_uri": "https://localhost:8080/"
    },
    "id": "R3zBxrMk73RG",
    "nbgrader": {
     "grade": false,
     "grade_id": "cell-d5b63d6e873e152e",
     "locked": false,
     "schema_version": 3,
     "solution": false
    },
    "outputId": "d5a572f5-3921-4513-c566-45bf50e1e0bd"
   },
   "outputs": [
    {
     "name": "stdout",
     "output_type": "stream",
     "text": [
      "129/129 [==============================] - 0s 2ms/step - loss: 0.8352 - mae: 0.8352 - mse: 1.2444\n"
     ]
    },
    {
     "data": {
      "text/plain": [
       "[0.8352301120758057, 0.8352301120758057, 1.2444031238555908]"
      ]
     },
     "execution_count": 29,
     "metadata": {},
     "output_type": "execute_result"
    }
   ],
   "source": [
    "model.evaluate(x_test, y_test)"
   ]
  },
  {
   "cell_type": "markdown",
   "metadata": {
    "deletable": false,
    "editable": false,
    "id": "3k88_NmP73RH",
    "nbgrader": {
     "cell_type": "markdown",
     "checksum": "d16731044b4c469ddea89069b3100569",
     "grade": false,
     "grade_id": "cell-9ce06e7b86737575",
     "locked": true,
     "schema_version": 3,
     "solution": false
    }
   },
   "source": [
    "Now recreate the model, again named `model`, with dropout layers. Add two dropout layers, using [`Dropout`](https://www.tensorflow.org/api_docs/python/tf/keras/layers/Dropout), one after the first layer of neurons and one after the second layer of neurons.\n",
    "Create a new list of layers, and name it `d_layers`, rather than reusing your old list (so that the model parameters will be randomly initialized again). Then construct the model as before.\n",
    "Select a low value of dropout (say, <0.1) that results in a good score."
   ]
  },
  {
   "cell_type": "code",
   "execution_count": 32,
   "metadata": {
    "deletable": false,
    "id": "HUy6UJp273RH",
    "nbgrader": {
     "cell_type": "code",
     "checksum": "6b57f0598104624eee5418f3a538acac",
     "grade": false,
     "grade_id": "cell-d5040e44398f8dc9",
     "locked": false,
     "schema_version": 3,
     "solution": true
    }
   },
   "outputs": [],
   "source": [
    "# Create your new model, with dropout layers.\n",
    "\n",
    "# YOUR CODE HERE\n",
    "\n",
    "d_layers = [\n",
    "    keras.layers.Dense(100, activation='relu', input_shape=(8,)),\n",
    "    Dropout(0.04),  \n",
    "    keras.layers.Dense(100, activation='relu'),\n",
    "    Dropout(0.04), \n",
    "    keras.layers.Dense(100, activation='relu'),\n",
    "    keras.layers.Dense(1)\n",
    "]\n",
    "\n",
    "model = keras.Sequential(d_layers)\n",
    "model.compile(\n",
    "    optimizer=optimizer,\n",
    "    loss='mae',\n",
    "    metrics=['mae', 'mse']\n",
    ")\n"
   ]
  },
  {
   "cell_type": "code",
   "execution_count": 33,
   "metadata": {
    "colab": {
     "base_uri": "https://localhost:8080/"
    },
    "id": "7LeG72RM73RO",
    "nbgrader": {
     "grade": false,
     "grade_id": "cell-6179f8d29fe18a67",
     "locked": false,
     "schema_version": 3,
     "solution": false
    },
    "outputId": "99a771bd-f2af-486e-8672-e40659d82ed3"
   },
   "outputs": [
    {
     "name": "stdout",
     "output_type": "stream",
     "text": [
      "Model: \"sequential_5\"\n",
      "_________________________________________________________________\n",
      " Layer (type)                Output Shape              Param #   \n",
      "=================================================================\n",
      " dense_8 (Dense)             (None, 100)               900       \n",
      "                                                                 \n",
      " dropout_4 (Dropout)         (None, 100)               0         \n",
      "                                                                 \n",
      " dense_9 (Dense)             (None, 100)               10100     \n",
      "                                                                 \n",
      " dropout_5 (Dropout)         (None, 100)               0         \n",
      "                                                                 \n",
      " dense_10 (Dense)            (None, 100)               10100     \n",
      "                                                                 \n",
      " dense_11 (Dense)            (None, 1)                 101       \n",
      "                                                                 \n",
      "=================================================================\n",
      "Total params: 21201 (82.82 KB)\n",
      "Trainable params: 21201 (82.82 KB)\n",
      "Non-trainable params: 0 (0.00 Byte)\n",
      "_________________________________________________________________\n"
     ]
    }
   ],
   "source": [
    "model.summary()"
   ]
  },
  {
   "cell_type": "code",
   "execution_count": 34,
   "metadata": {
    "deletable": false,
    "editable": false,
    "id": "MtrNxcUo73RO",
    "nbgrader": {
     "cell_type": "code",
     "checksum": "1112b38e98fd56d9af81ced88c256d10",
     "grade": true,
     "grade_id": "cell-b6c7e6e2ddc6742a",
     "locked": true,
     "points": 5,
     "schema_version": 3,
     "solution": false
    }
   },
   "outputs": [],
   "source": [
    "assert len(d_layers) == 6\n",
    "assert isinstance(d_layers[1], Dropout)\n",
    "assert isinstance(d_layers[3], Dropout)\n",
    "for i,layer in enumerate(layers):\n",
    "    if i not in [1,3]:\n",
    "        assert isinstance(d_layers[i], keras.layers.Dense) \n",
    "        assert layer.weights[1].shape == [100, 0, 100, 0, 100, 1][i]"
   ]
  },
  {
   "cell_type": "code",
   "execution_count": 35,
   "metadata": {
    "colab": {
     "base_uri": "https://localhost:8080/"
    },
    "id": "0LVaKsFK73RO",
    "nbgrader": {
     "grade": false,
     "grade_id": "cell-9ed3ec168ee4a1e5",
     "locked": false,
     "schema_version": 3,
     "solution": false
    },
    "outputId": "a6aab0e6-455b-4ca5-81c0-d5efa3f8a40e"
   },
   "outputs": [
    {
     "name": "stdout",
     "output_type": "stream",
     "text": [
      "Epoch 1/50\n",
      "17/17 [==============================] - 1s 6ms/step - loss: 40.0710 - mae: 40.0710 - mse: 2939.2083\n",
      "Epoch 2/50\n",
      "17/17 [==============================] - 0s 7ms/step - loss: 30.1745 - mae: 30.1745 - mse: 1745.6331\n",
      "Epoch 3/50\n",
      "17/17 [==============================] - 0s 5ms/step - loss: 22.8406 - mae: 22.8406 - mse: 1056.2112\n",
      "Epoch 4/50\n",
      "17/17 [==============================] - 0s 6ms/step - loss: 18.6126 - mae: 18.6126 - mse: 963.5550\n",
      "Epoch 5/50\n",
      "17/17 [==============================] - 0s 6ms/step - loss: 16.9728 - mae: 16.9728 - mse: 776.9193\n",
      "Epoch 6/50\n",
      "17/17 [==============================] - 0s 5ms/step - loss: 16.5953 - mae: 16.5953 - mse: 794.0826\n",
      "Epoch 7/50\n",
      "17/17 [==============================] - 0s 5ms/step - loss: 16.3619 - mae: 16.3619 - mse: 757.1032\n",
      "Epoch 8/50\n",
      "17/17 [==============================] - 0s 5ms/step - loss: 16.2372 - mae: 16.2372 - mse: 753.8012\n",
      "Epoch 9/50\n",
      "17/17 [==============================] - 0s 5ms/step - loss: 16.2688 - mae: 16.2688 - mse: 806.4526\n",
      "Epoch 10/50\n",
      "17/17 [==============================] - 0s 5ms/step - loss: 15.9897 - mae: 15.9897 - mse: 754.7632\n",
      "Epoch 11/50\n",
      "17/17 [==============================] - 0s 5ms/step - loss: 15.9222 - mae: 15.9222 - mse: 800.9785\n",
      "Epoch 12/50\n",
      "17/17 [==============================] - 0s 5ms/step - loss: 15.5566 - mae: 15.5566 - mse: 661.2755\n",
      "Epoch 13/50\n",
      "17/17 [==============================] - 0s 5ms/step - loss: 15.2314 - mae: 15.2314 - mse: 635.8511\n",
      "Epoch 14/50\n",
      "17/17 [==============================] - 0s 5ms/step - loss: 15.1554 - mae: 15.1554 - mse: 706.3740\n",
      "Epoch 15/50\n",
      "17/17 [==============================] - 0s 6ms/step - loss: 14.9718 - mae: 14.9718 - mse: 626.4704\n",
      "Epoch 16/50\n",
      "17/17 [==============================] - 0s 5ms/step - loss: 14.6501 - mae: 14.6501 - mse: 587.0457\n",
      "Epoch 17/50\n",
      "17/17 [==============================] - 0s 5ms/step - loss: 14.7165 - mae: 14.7165 - mse: 638.6456\n",
      "Epoch 18/50\n",
      "17/17 [==============================] - 0s 5ms/step - loss: 14.4668 - mae: 14.4668 - mse: 608.8861\n",
      "Epoch 19/50\n",
      "17/17 [==============================] - 0s 4ms/step - loss: 14.2188 - mae: 14.2188 - mse: 553.7687\n",
      "Epoch 20/50\n",
      "17/17 [==============================] - 0s 4ms/step - loss: 14.0927 - mae: 14.0927 - mse: 570.5131\n",
      "Epoch 21/50\n",
      "17/17 [==============================] - 0s 5ms/step - loss: 13.8398 - mae: 13.8398 - mse: 527.2581\n",
      "Epoch 22/50\n",
      "17/17 [==============================] - 0s 4ms/step - loss: 13.5890 - mae: 13.5890 - mse: 511.7078\n",
      "Epoch 23/50\n",
      "17/17 [==============================] - 0s 5ms/step - loss: 13.6304 - mae: 13.6304 - mse: 559.8018\n",
      "Epoch 24/50\n",
      "17/17 [==============================] - 0s 5ms/step - loss: 13.0793 - mae: 13.0793 - mse: 466.2683\n",
      "Epoch 25/50\n",
      "17/17 [==============================] - 0s 5ms/step - loss: 13.1554 - mae: 13.1554 - mse: 528.5984\n",
      "Epoch 26/50\n",
      "17/17 [==============================] - 0s 5ms/step - loss: 12.8592 - mae: 12.8592 - mse: 461.3023\n",
      "Epoch 27/50\n",
      "17/17 [==============================] - 0s 5ms/step - loss: 12.6007 - mae: 12.6007 - mse: 430.3566\n",
      "Epoch 28/50\n",
      "17/17 [==============================] - 0s 5ms/step - loss: 12.5519 - mae: 12.5519 - mse: 471.2899\n",
      "Epoch 29/50\n",
      "17/17 [==============================] - 0s 5ms/step - loss: 12.1265 - mae: 12.1265 - mse: 434.9824\n",
      "Epoch 30/50\n",
      "17/17 [==============================] - 0s 7ms/step - loss: 11.9609 - mae: 11.9609 - mse: 399.4881\n",
      "Epoch 31/50\n",
      "17/17 [==============================] - 0s 13ms/step - loss: 11.8277 - mae: 11.8277 - mse: 392.7063\n",
      "Epoch 32/50\n",
      "17/17 [==============================] - 0s 12ms/step - loss: 11.5599 - mae: 11.5599 - mse: 389.5632\n",
      "Epoch 33/50\n",
      "17/17 [==============================] - 0s 14ms/step - loss: 11.3255 - mae: 11.3255 - mse: 369.0920\n",
      "Epoch 34/50\n",
      "17/17 [==============================] - 0s 13ms/step - loss: 11.3160 - mae: 11.3160 - mse: 377.5049\n",
      "Epoch 35/50\n",
      "17/17 [==============================] - 0s 11ms/step - loss: 11.0358 - mae: 11.0358 - mse: 347.9100\n",
      "Epoch 36/50\n",
      "17/17 [==============================] - 0s 9ms/step - loss: 10.8295 - mae: 10.8295 - mse: 331.0988\n",
      "Epoch 37/50\n",
      "17/17 [==============================] - 0s 9ms/step - loss: 10.6316 - mae: 10.6316 - mse: 320.4478\n",
      "Epoch 38/50\n",
      "17/17 [==============================] - 0s 9ms/step - loss: 10.4956 - mae: 10.4956 - mse: 311.7470\n",
      "Epoch 39/50\n",
      "17/17 [==============================] - 0s 8ms/step - loss: 10.2500 - mae: 10.2500 - mse: 293.8900\n",
      "Epoch 40/50\n",
      "17/17 [==============================] - 0s 9ms/step - loss: 10.1936 - mae: 10.1936 - mse: 346.5782\n",
      "Epoch 41/50\n",
      "17/17 [==============================] - 0s 9ms/step - loss: 10.0554 - mae: 10.0554 - mse: 281.4559\n",
      "Epoch 42/50\n",
      "17/17 [==============================] - 0s 9ms/step - loss: 9.7309 - mae: 9.7309 - mse: 305.3510\n",
      "Epoch 43/50\n",
      "17/17 [==============================] - 0s 9ms/step - loss: 9.6355 - mae: 9.6355 - mse: 297.6241\n",
      "Epoch 44/50\n",
      "17/17 [==============================] - 0s 10ms/step - loss: 9.6154 - mae: 9.6154 - mse: 266.4719\n",
      "Epoch 45/50\n",
      "17/17 [==============================] - 0s 10ms/step - loss: 9.3182 - mae: 9.3182 - mse: 251.6206\n",
      "Epoch 46/50\n",
      "17/17 [==============================] - 0s 9ms/step - loss: 9.2657 - mae: 9.2657 - mse: 248.5166\n",
      "Epoch 47/50\n",
      "17/17 [==============================] - 0s 9ms/step - loss: 9.1171 - mae: 9.1171 - mse: 232.7164\n",
      "Epoch 48/50\n",
      "17/17 [==============================] - 0s 9ms/step - loss: 9.0451 - mae: 9.0451 - mse: 233.9284\n",
      "Epoch 49/50\n",
      "17/17 [==============================] - 0s 9ms/step - loss: 8.9777 - mae: 8.9777 - mse: 251.9622\n",
      "Epoch 50/50\n",
      "17/17 [==============================] - 0s 9ms/step - loss: 8.7857 - mae: 8.7857 - mse: 218.5807\n"
     ]
    }
   ],
   "source": [
    "# Because dropout reduces the convergence rate (but may ultimately coverge to\n",
    "# a lower loss), it sometimes requires training for more epochs than otherwise.\n",
    "\n",
    "optimizer = Adam(learning_rate=1e-5)\n",
    "model.compile(optimizer=optimizer, loss='mae', metrics=['mae', \"mse\"])\n",
    "n_epochs = 50\n",
    "history = model.fit(x_train, y_train, batch_size=1000, epochs=n_epochs, verbose=1)"
   ]
  },
  {
   "cell_type": "code",
   "execution_count": 36,
   "metadata": {},
   "outputs": [
    {
     "name": "stdout",
     "output_type": "stream",
     "text": [
      "Training loss on the final epoch was: 8.7857\n"
     ]
    },
    {
     "data": {
      "image/png": "[encoded data removed]",
      "text/plain": [
       "<Figure size 1200x400 with 2 Axes>"
      ]
     },
     "metadata": {},
     "output_type": "display_data"
    }
   ],
   "source": [
    "# Let's plot the training loss and metric scores again\n",
    "\n",
    "plt.figure(figsize=(12, 4))\n",
    "plt.subplot(1, 2, 1)\n",
    "plt.plot(np.arange(1, n_epochs+1), history.history['loss'])\n",
    "plt.title('Training set loss')\n",
    "plt.xlabel('Epoch')\n",
    "plt.ylabel('Loss')\n",
    "\n",
    "plt.subplot(1, 2, 2)\n",
    "plt.semilogy(np.arange(1, n_epochs+1), history.history['mae'], label='mae')\n",
    "plt.semilogy(np.arange(1, n_epochs+1), history.history['mse'], label='mse')\n",
    "plt.legend()\n",
    "plt.title('Training set metric scores')\n",
    "plt.xlabel('Epoch')\n",
    "plt.ylabel('Error')\n",
    "\n",
    "print(f\"Training loss on the final epoch was: {history.history['loss'][-1]:0.4f}\")"
   ]
  },
  {
   "cell_type": "code",
   "execution_count": 37,
   "metadata": {},
   "outputs": [
    {
     "name": "stdout",
     "output_type": "stream",
     "text": [
      "129/129 [==============================] - 0s 2ms/step - loss: 1.1380 - mae: 1.1380 - mse: 2.9110\n"
     ]
    },
    {
     "data": {
      "text/plain": [
       "[1.1380091905593872, 1.1380091905593872, 2.9109973907470703]"
      ]
     },
     "execution_count": 37,
     "metadata": {},
     "output_type": "execute_result"
    }
   ],
   "source": [
    "model.evaluate(x_test, y_test)"
   ]
  },
  {
   "cell_type": "markdown",
   "metadata": {
    "deletable": false,
    "editable": false,
    "id": "LUex7SPp73RO",
    "nbgrader": {
     "cell_type": "markdown",
     "checksum": "f892cfea01ec6c2301d8cf6df12f2bfc",
     "grade": false,
     "grade_id": "cell-06909b3cd0248748",
     "locked": true,
     "schema_version": 3,
     "solution": false
    }
   },
   "source": [
    "Select a dropout rate that gets an okay score--one that is sufficient to pass the following `assert` test.\n",
    "\n",
    "Note that in this case, dropout did not likely result in better loss or metric scores on the test set versus the models without dropout. Dropout does not always help, but it sometimes does, especially if you have a very large model but a somewhat undersized dataset. In that case, dropout serves as a regularization technique, like L1- or L2-norm weight penalty terms in linear regression."
   ]
  },
  {
   "cell_type": "code",
   "execution_count": 38,
   "metadata": {
    "colab": {
     "base_uri": "https://localhost:8080/"
    },
    "deletable": false,
    "editable": false,
    "id": "QD8pzPFe73RO",
    "nbgrader": {
     "cell_type": "code",
     "checksum": "d1f1a9bcfa2ab8ad1ed3b21b00fb8ba9",
     "grade": true,
     "grade_id": "cell-538bede4947fe364",
     "locked": true,
     "points": 0,
     "schema_version": 3,
     "solution": false
    },
    "outputId": "9b2ea88e-427a-4173-a969-9595722ff767"
   },
   "outputs": [
    {
     "name": "stdout",
     "output_type": "stream",
     "text": [
      "129/129 [==============================] - 0s 2ms/step - loss: 1.1380 - mae: 1.1380 - mse: 2.9110\n"
     ]
    }
   ],
   "source": [
    "assert model.evaluate(x_test, y_test)[0] < 3"
   ]
  },
  {
   "cell_type": "markdown",
   "metadata": {},
   "source": [
    "# Grading\n",
    "The following code block is purely used for grading. If you find any error, you can ignore. DO NOT MODIFY THE CODE BLOCK BELOW."
   ]
  },
  {
   "cell_type": "code",
   "execution_count": null,
   "metadata": {},
   "outputs": [],
   "source": [
    "# Autograding with Otter Grader\n",
    "import otter\n",
    "grader = otter.Notebook()\n",
    "grader.check_all()"
   ]
  },
  {
   "cell_type": "markdown",
   "metadata": {
    "deletable": false,
    "editable": false,
    "id": "IPWJ3CQq73RP",
    "nbgrader": {
     "cell_type": "markdown",
     "checksum": "23648526b4581cb6ea5df76b63c45274",
     "grade": false,
     "grade_id": "cell-bdd8daf85b096db9",
     "locked": true,
     "schema_version": 3,
     "solution": false
    }
   },
   "source": [
    "## Feedback"
   ]
  },
  {
   "cell_type": "code",
   "execution_count": null,
   "metadata": {
    "deletable": false,
    "id": "8ggmw34M73RP",
    "nbgrader": {
     "cell_type": "code",
     "checksum": "ed936ab53a1391c5e6af8df699a1dbf5",
     "grade": false,
     "grade_id": "feedback",
     "locked": false,
     "schema_version": 3,
     "solution": true
    }
   },
   "outputs": [],
   "source": [
    "def feedback():\n",
    "    \"\"\"Provide feedback on the contents of this exercise\n",
    "    \n",
    "    Returns:\n",
    "        string\n",
    "    \"\"\"\n",
    "    # YOUR CODE HERE\n",
    "    return \"no feedback\""
   ]
  },
  {
   "cell_type": "code",
   "execution_count": null,
   "metadata": {
    "deletable": false,
    "editable": false,
    "id": "l3-dgeRp73RP",
    "nbgrader": {
     "cell_type": "code",
     "checksum": "f39f6185a54850c2f1f9b5b2a17b7543",
     "grade": true,
     "grade_id": "feedback-tests",
     "locked": true,
     "points": 0,
     "schema_version": 3,
     "solution": false
    }
   },
   "outputs": [],
   "source": []
  }
 ],
 "metadata": {
  "colab": {
   "collapsed_sections": [],
   "name": "5a_Deep_Learning_Alternate.ipynb",
   "provenance": []
  },
  "kernelspec": {
   "display_name": "Python 3 (ipykernel)",
   "language": "python",
   "name": "python3"
  },
  "language_info": {
   "codemirror_mode": {
    "name": "ipython",
    "version": 3
   },
   "file_extension": ".py",
   "mimetype": "text/x-python",
   "name": "python",
   "nbconvert_exporter": "python",
   "pygments_lexer": "ipython3",
   "version": "3.11.4"
  }
 },
 "nbformat": 4,
 "nbformat_minor": 1
}
