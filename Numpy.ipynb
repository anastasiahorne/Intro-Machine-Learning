{
 "cells": [
  {
   "cell_type": "markdown",
   "metadata": {},
   "source": [
    "## CSCI 470 Activities and Case Studies\n",
    "\n",
    "1. For all activities, you are allowed to collaborate with a partner. \n",
    "1. For case studies, you should work individually and are **not** allowed to collaborate.\n",
    "\n",
    "By filling out this notebook and submitting it, you acknowledge that you are aware of the above policies and are agreeing to comply with them."
   ]
  },
  {
   "cell_type": "markdown",
   "metadata": {},
   "source": [
    "Some considerations with regard to how these notebooks will be graded:\n",
    "\n",
    "1. Cells in which \"# YOUR CODE HERE\" is found are the cells where your graded code should be written.\n",
    "2. In order to test out or debug your code you may also create notebook cells or edit existing notebook cells other than \"# YOUR CODE HERE\". We actually highly recommend you do so to gain a better understanding of what is happening. However, during grading, **these changes are ignored**. \n",
    "3. You must ensure that all your code for the particular task is available in the cells that say \"# YOUR CODE HERE\"\n",
    "4. Every cell that says \"# YOUR CODE HERE\" is followed by a \"raise NotImplementedError\". You need to remove that line. During grading, if an error occurs then you will lose points for your work in that section.\n",
    "5. If your code passes the \"assert\" statements, then no output will result. If your code fails the \"assert\" statements, you will get an \"AssertionError\". Getting an assertion error means you will not receive points for that particular task.\n",
    "6. If you edit the \"assert\" statements to make your code pass, they will still fail when they are graded since the autograder will ignore the modified \"assert\" statement. Make sure you don't edit the assert statements.\n",
    "7. We may sometimes have \"hidden\" tests for grading. This means that passing the visible \"assert\" statements is not sufficient. The \"assert\" statements are there as a guide but you need to make sure you understand what you're required to do and ensure that you are doing it correctly. Passing the visible tests is necessary but not sufficient to get the grade for that cell.\n",
    "8. When you are asked to define a function, make sure you **don't** use any variables outside of the parameters passed to the function. You can think of the parameters being passed to the function as a hint. Make sure you're using all of those variables.\n",
    "9. The **Grading** section at the end of the document (before the **Feedback** section) contains some code for our autograder on GradeScope. You are expected to fail this block of code in your Jupyter environment. DO NOT edit this block of code, or you may not get points for your assignment.\n",
    "10. Finally, **make sure you run \"Kernel > Restart and Run All\"** and pass all the asserts before submitting. If you don't restart the kernel, there may be some code that you ran and deleted that is still being used and that was why your asserts were passing."
   ]
  },
  {
   "cell_type": "markdown",
   "metadata": {},
   "source": [
    "# Numpy\n",
    "\n",
    "The Python module, [Numpy](https://numpy.org/doc/stable/), provides a means to efficiently work with vectors, matrices, or high-dimensional tensors (all generically termed \"arrays\"). Compared to raw Python, Numpy oftentimes allows for fewer lines of code and faster execution.\n",
    "\n",
    "In this activity you'll be asked to perform a variety of tasks using Numpy. __We'll only use matrices of integers rather than floating-point numbers, so the math will be easy for you to do in your head (more or less), and check against results.__\n",
    "\n",
    "### There are _hidden test cells in this notebook_. You need to pass the asserts, but be sure do to a self-examination of the numeric results of your code, as this what will be scored by the hidden test cells.\n",
    "\n",
    "For each visible test cell (except Problem 6) there is an accompanying hidden test."
   ]
  },
  {
   "cell_type": "code",
   "execution_count": 1,
   "metadata": {
    "nbgrader": {
     "grade": false,
     "grade_id": "cell-7ff8992190e52386",
     "locked": false,
     "schema_version": 3,
     "solution": false
    }
   },
   "outputs": [],
   "source": [
    "import numpy as np\n",
    "import time"
   ]
  },
  {
   "cell_type": "code",
   "execution_count": 2,
   "metadata": {
    "deletable": false,
    "nbgrader": {
     "cell_type": "code",
     "checksum": "1c658aefe396f91e2e91f9a38abfbf77",
     "grade": false,
     "grade_id": "cell-b1ff46ad54b572cb",
     "locked": false,
     "schema_version": 3,
     "solution": true,
     "task": false
    }
   },
   "outputs": [
    {
     "name": "stdout",
     "output_type": "stream",
     "text": [
      "X1:\n",
      "[[ 3  6 -9]\n",
      " [-6 -6 -2]\n",
      " [ 0  9 -5]\n",
      " [-3  3 -8]\n",
      " [-3 -2  5]]\n"
     ]
    }
   ],
   "source": [
    "# Problem 1: Slicing\n",
    "#\n",
    "# Given the matrix, X1, use slicing to extract a (3, 2) submatrix that\n",
    "# is taken from the first 3 rows of X and the last 2 columns of X1.\n",
    "# Name the results \"submatrix\".\n",
    "\n",
    "np.random.seed(0)\n",
    "X1 = np.random.randint(-9, 10, size=(5, 3))\n",
    "print('X1:')\n",
    "print(X1)\n",
    "\n",
    "# YOUR CODE HERE\n",
    "submatrix=X1[:3,-2:]"
   ]
  },
  {
   "cell_type": "code",
   "execution_count": 3,
   "metadata": {
    "deletable": false,
    "editable": false,
    "nbgrader": {
     "cell_type": "code",
     "checksum": "338c4c4c6fa63de9e681223275d32294",
     "grade": true,
     "grade_id": "cell-42cdb22805f63113",
     "locked": true,
     "points": 2,
     "schema_version": 3,
     "solution": false,
     "task": false
    }
   },
   "outputs": [],
   "source": [
    "assert submatrix.shape==(3, 2)"
   ]
  },
  {
   "cell_type": "code",
   "execution_count": null,
   "metadata": {
    "deletable": false,
    "editable": false,
    "nbgrader": {
     "cell_type": "code",
     "checksum": "d57b613f8706af87c107e8b88d6e5bd8",
     "grade": true,
     "grade_id": "cell-deb50b78bf000a15",
     "locked": true,
     "points": 2,
     "schema_version": 3,
     "solution": false,
     "task": false
    }
   },
   "outputs": [],
   "source": []
  },
  {
   "cell_type": "code",
   "execution_count": 4,
   "metadata": {
    "deletable": false,
    "nbgrader": {
     "cell_type": "code",
     "checksum": "4029f699fcafeffb06cf343762c2d17e",
     "grade": false,
     "grade_id": "cell-dc16b6c5a2324c48",
     "locked": false,
     "schema_version": 3,
     "solution": true,
     "task": false
    }
   },
   "outputs": [
    {
     "name": "stdout",
     "output_type": "stream",
     "text": [
      "X2:\n",
      "[[ 3  6 -9]\n",
      " [-6 -6 -2]\n",
      " [ 0  9 -5]]\n",
      "\n",
      "Y2:\n",
      "[[-3  3 -8]\n",
      " [-3 -2  5]\n",
      " [ 8 -4  4]]\n"
     ]
    }
   ],
   "source": [
    "# Problem 2: Multiplying\n",
    "#\n",
    "# Given two square matrices, X2 and Y2:\n",
    "#\n",
    "# 1. Do an element-by-element multiply, and name the result \"mult_elements\".\n",
    "# 2. Do a matrix multiply (XY, not YX), and name the result \"mult_matrix\".\n",
    "\n",
    "np.random.seed(0)\n",
    "X2 = np.random.randint(-9, 10, size=(3, 3))\n",
    "Y2 = np.random.randint(-9, 10, size=(3, 3))\n",
    "print('X2:')\n",
    "print(X2)\n",
    "print('\\nY2:')\n",
    "print(Y2)\n",
    "\n",
    "# YOUR CODE HERE\n",
    "mult_elements = X2 * Y2\n",
    "mult_matrix = np.dot(X2, Y2)"
   ]
  },
  {
   "cell_type": "code",
   "execution_count": 5,
   "metadata": {
    "deletable": false,
    "editable": false,
    "nbgrader": {
     "cell_type": "code",
     "checksum": "67980bbbb4f6611f9ad51361bd7a61cc",
     "grade": true,
     "grade_id": "cell-82400b0aa815ad71",
     "locked": true,
     "points": 2,
     "schema_version": 3,
     "solution": false,
     "task": false
    }
   },
   "outputs": [],
   "source": [
    "assert mult_elements.shape==(3, 3)\n",
    "assert mult_matrix.shape==(3, 3)"
   ]
  },
  {
   "cell_type": "code",
   "execution_count": null,
   "metadata": {
    "deletable": false,
    "editable": false,
    "nbgrader": {
     "cell_type": "code",
     "checksum": "54036cbbfca38a667faa5c98f9222dec",
     "grade": true,
     "grade_id": "cell-09a4a1e23d5c1ac8",
     "locked": true,
     "points": 2,
     "schema_version": 3,
     "solution": false,
     "task": false
    }
   },
   "outputs": [],
   "source": []
  },
  {
   "cell_type": "code",
   "execution_count": 6,
   "metadata": {
    "deletable": false,
    "nbgrader": {
     "cell_type": "code",
     "checksum": "f9f45b03ba9297046a290b0f09a2e2c9",
     "grade": false,
     "grade_id": "cell-d782a72c39bea8c9",
     "locked": false,
     "schema_version": 3,
     "solution": true,
     "task": false
    }
   },
   "outputs": [
    {
     "name": "stdout",
     "output_type": "stream",
     "text": [
      "X3:\n",
      "[[ 3  6 -9 -6]\n",
      " [-6 -2  0  9]\n",
      " [-5 -3  3 -8]\n",
      " [-3 -2  5  8]\n",
      " [-4  4 -1  0]\n",
      " [ 7 -4  6  6]]\n"
     ]
    }
   ],
   "source": [
    "# Problem 3: Broadcasting\n",
    "#\n",
    "# You are given an (m, n) matrix, X3.\n",
    "# Create a (1, n) array of numbers from 1 to n, naming it \"my_array\".\n",
    "# Then multiply each row of the matrix by the array, using broadcasting.\n",
    "# Name the result \"mult_broadcast\".\n",
    "\n",
    "np.random.seed(0)\n",
    "X3 = np.random.randint(-9, 10, size=(6, 4))\n",
    "print('X3:')\n",
    "print(X3)\n",
    "\n",
    "# YOUR CODE HERE\n",
    "n = X3.shape[1]\n",
    "my_array = np.arange(1, n +1).reshape(1,-1)\n",
    "mult_broadcast = X3 * my_array"
   ]
  },
  {
   "cell_type": "code",
   "execution_count": 7,
   "metadata": {
    "deletable": false,
    "editable": false,
    "nbgrader": {
     "cell_type": "code",
     "checksum": "f6316f78e9cf2e62a3a7be1f42d087ac",
     "grade": true,
     "grade_id": "cell-68745cbcde8f0ebb",
     "locked": true,
     "points": 2,
     "schema_version": 3,
     "solution": false,
     "task": false
    }
   },
   "outputs": [],
   "source": [
    "assert my_array.shape==(1, X3.shape[1])\n",
    "assert mult_broadcast.shape==X3.shape"
   ]
  },
  {
   "cell_type": "code",
   "execution_count": null,
   "metadata": {
    "deletable": false,
    "editable": false,
    "nbgrader": {
     "cell_type": "code",
     "checksum": "fcc360b750c3a694baa27ed9603d8c64",
     "grade": true,
     "grade_id": "cell-41babecc69952665",
     "locked": true,
     "points": 2,
     "schema_version": 3,
     "solution": false,
     "task": false
    }
   },
   "outputs": [],
   "source": []
  },
  {
   "cell_type": "code",
   "execution_count": 8,
   "metadata": {
    "deletable": false,
    "nbgrader": {
     "cell_type": "code",
     "checksum": "6347e145ca3ab3f218e9793a98c57d1b",
     "grade": false,
     "grade_id": "cell-51017ced48d70575",
     "locked": false,
     "schema_version": 3,
     "solution": true,
     "task": false
    }
   },
   "outputs": [
    {
     "name": "stdout",
     "output_type": "stream",
     "text": [
      "X4:\n",
      "[[2 2 2 2 2]\n",
      " [2 2 2 2 2]\n",
      " [2 2 2 2 0]]\n",
      "\n",
      "Y4:\n",
      "[[0 0 2]\n",
      " [2 2 2]\n",
      " [2 2 2]\n",
      " [1 2 1]\n",
      " [2 2 2]]\n"
     ]
    }
   ],
   "source": [
    "# Problem 4: Transposition, and row- or column-wise operations\n",
    "#\n",
    "# Given a matrix, X4, of \"true values\" of size (m, n), and a matrix, Y4, of\n",
    "# \"predicted values\" of size (n, m):\n",
    "#\n",
    "# 1. Use np.transpose() to transpose Y4 from (n, m) to (m, n), and name\n",
    "#    the result \"Y_trans\".\n",
    "# 2. Compute the sum-of-squares-error between X4 and Y_trans, for each row.\n",
    "#    Keep the column dimension, such that the output shape is (m, 1).\n",
    "#    Name the result \"sse_rows\".\n",
    "# 3. Compute the mean-absolute-error between X4 and Y_trans, for each column.\n",
    "#    Do not keep the row dimension, such that the output shape is (n,).\n",
    "#    Name the result \"mae_cols\".\n",
    "\n",
    "# Note that here we use numpy.random.choice, primarily to just expose you to its usage.\n",
    "\n",
    "np.random.seed(0)\n",
    "X4 = np.random.choice(np.arange(0, 3), size=(3, 5), replace=True, p=(0.1, 0.1, 0.8))\n",
    "Y4 = np.random.choice(np.arange(0, 3), size=(5, 3), replace=True, p=(0.1, 0.1, 0.8))\n",
    "print('X4:')\n",
    "print(X4)\n",
    "print('\\nY4:')\n",
    "print(Y4)\n",
    "\n",
    "# YOUR CODE HERE\n",
    "Y_trans = np.transpose(Y4)\n",
    "sse_rows = np.sum((X4 - Y_trans) ** 2, axis=1, keepdims=True)\n",
    "mae_cols = np.mean(np.abs(X4 - Y_trans), axis=0)"
   ]
  },
  {
   "cell_type": "code",
   "execution_count": 9,
   "metadata": {
    "deletable": false,
    "editable": false,
    "nbgrader": {
     "cell_type": "code",
     "checksum": "3e9a324a4d544d25a675557fc7f78c6b",
     "grade": true,
     "grade_id": "cell-0080b87937041275",
     "locked": true,
     "points": 2,
     "schema_version": 3,
     "solution": false,
     "task": false
    }
   },
   "outputs": [],
   "source": [
    "assert Y_trans.shape==X4.shape\n",
    "assert sse_rows.shape==(X4.shape[0], 1)\n",
    "assert mae_cols.shape==(X4.shape[1],)"
   ]
  },
  {
   "cell_type": "code",
   "execution_count": null,
   "metadata": {
    "deletable": false,
    "editable": false,
    "nbgrader": {
     "cell_type": "code",
     "checksum": "43e9dfaee8c6ae90b46c2a4016b7053c",
     "grade": true,
     "grade_id": "cell-241ae707b0f80a1a",
     "locked": true,
     "points": 2,
     "schema_version": 3,
     "solution": false,
     "task": false
    }
   },
   "outputs": [],
   "source": []
  },
  {
   "cell_type": "code",
   "execution_count": 10,
   "metadata": {
    "deletable": false,
    "nbgrader": {
     "cell_type": "code",
     "checksum": "2b84ed239fada7820ea61a6fabd59003",
     "grade": false,
     "grade_id": "cell-8da7412ec6230d44",
     "locked": false,
     "schema_version": 3,
     "solution": true,
     "task": false
    }
   },
   "outputs": [
    {
     "name": "stdout",
     "output_type": "stream",
     "text": [
      "X5:\n",
      "[[ 3  6 -9 -6 -6]\n",
      " [-2  0  9 -5 -3]\n",
      " [ 3 -8 -3 -2  5]\n",
      " [ 8 -4  4 -1  0]]\n",
      "\n",
      "Y5:\n",
      "[[6 9 6 9 7]\n",
      " [8 9 9 6 8]\n",
      " [9 6 7 9 7]\n",
      " [9 9 8 9 6]]\n"
     ]
    }
   ],
   "source": [
    "# Problem 5: Find matrix values that meet some criteria, and replace them.\n",
    "#\n",
    "# For matrix X5, find all elemant values, x, for which -5 <= x <=5 and\n",
    "# replace them with values at the commensurate location in matrix Y.\n",
    "# Use np.where(). Name the new matrix, \"replaced\".\n",
    "\n",
    "np.random.seed(0)\n",
    "X5 = np.random.randint(-9, 10, size=(4, 5))\n",
    "Y5 = np.random.randint(6, 10, size=(4, 5))\n",
    "print('X5:')\n",
    "print(X5)\n",
    "print('\\nY5:')\n",
    "print(Y5)\n",
    "\n",
    "# YOUR CODE HERE\n",
    "condition = (X5 >= -5) & (X5 <= 5)\n",
    "replaced = np.where(condition, Y5, X5)"
   ]
  },
  {
   "cell_type": "code",
   "execution_count": 11,
   "metadata": {
    "deletable": false,
    "editable": false,
    "nbgrader": {
     "cell_type": "code",
     "checksum": "170d45430ac50bd927f20fee5540cd83",
     "grade": true,
     "grade_id": "cell-aaeb1c5ecaa68d44",
     "locked": true,
     "points": 2,
     "schema_version": 3,
     "solution": false,
     "task": false
    }
   },
   "outputs": [],
   "source": [
    "assert np.all(np.abs(replaced) >= 5)\n",
    "assert np.any(replaced < -5)\n",
    "assert np.any(replaced > 5)"
   ]
  },
  {
   "cell_type": "code",
   "execution_count": null,
   "metadata": {
    "deletable": false,
    "editable": false,
    "nbgrader": {
     "cell_type": "code",
     "checksum": "0da58dcc698187f5c288c88baa7c5c6f",
     "grade": true,
     "grade_id": "cell-7d51d6fd2d3e1848",
     "locked": true,
     "points": 2,
     "schema_version": 3,
     "solution": false,
     "task": false
    }
   },
   "outputs": [],
   "source": []
  },
  {
   "cell_type": "code",
   "execution_count": 12,
   "metadata": {},
   "outputs": [
    {
     "name": "stdout",
     "output_type": "stream",
     "text": [
      "Printing just a few of the samples...\n",
      "\n",
      "labels_true:\n",
      "[2 2 2 2 2 2 2 2 2 1 2 2 2 2 0 0 0 2 2 2 2 2 2 2 0 2 0 2 2 2]\n",
      "\n",
      "labels_pred:\n",
      "[0 2 1 1 2 2 2 2 2 1 2 0 0 2 2 0 2 2 2 2 2 2 2 2 2 2 1 2 0 1]\n"
     ]
    }
   ],
   "source": [
    "# Problem 6: Compute a confusion matrix\n",
    "#\n",
    "# The demo code in the next cell computes a confusion matrix by iterating over every sample in\n",
    "# arrays of true and prediction classes, sample by sample.\n",
    "# \n",
    "# In the cell below that, you'll take a different approach. You'll create nested for loops\n",
    "# that iterates over true classes (outer loop) and predicted classes (inner loop). Inside the\n",
    "# inner loop you find (a) the true samples that match the true class (for that loop) and the\n",
    "# predicted samples that match the predicted class (for that loop). You'll then find the samples\n",
    "# that meet both those criteria, sum/count them, and enter that value in the confusion matrix.\n",
    "\n",
    "np.random.seed(0)\n",
    "n_samples = 100\n",
    "labels_true = np.random.choice(np.arange(0, 3), size=(n_samples,), replace=True, p=(0.2, 0.2, 0.6))\n",
    "# Introduce some possible errors in the predictions\n",
    "labels_pred = labels_true.copy()\n",
    "idx_err = np.random.choice(30, size=n_samples//3)\n",
    "labels_pred[idx_err] = np.random.choice(np.arange(0, 3), size=(n_samples//3,), replace=True, p=(0.2, 0.2, 0.6))\n",
    "\n",
    "print('Printing just a few of the samples...')\n",
    "print('\\nlabels_true:')\n",
    "print(labels_true[:30])\n",
    "print('\\nlabels_pred:')\n",
    "print(labels_pred[:30])"
   ]
  },
  {
   "cell_type": "code",
   "execution_count": 13,
   "metadata": {},
   "outputs": [
    {
     "name": "stdout",
     "output_type": "stream",
     "text": [
      "\n",
      "Confusion Matrix:\n",
      "[[21  1  3]\n",
      " [ 0 16  0]\n",
      " [ 4  3 52]]\n"
     ]
    }
   ],
   "source": [
    "# Compute the confusion matrix by iterating over samples\n",
    "cm = np.zeros((3, 3), dtype=int)\n",
    "for i in range(len(labels_true)):\n",
    "    cm[labels_true[i], labels_pred[i]] += 1\n",
    "\n",
    "print('\\nConfusion Matrix:')\n",
    "print(cm)"
   ]
  },
  {
   "cell_type": "code",
   "execution_count": 14,
   "metadata": {
    "deletable": false,
    "nbgrader": {
     "cell_type": "code",
     "checksum": "a902441fa724bc10ca270c958ce9adf5",
     "grade": false,
     "grade_id": "cell-08a8c66fad048c16",
     "locked": false,
     "schema_version": 3,
     "solution": true,
     "task": false
    }
   },
   "outputs": [
    {
     "name": "stdout",
     "output_type": "stream",
     "text": [
      "\n",
      "Confusion Matrix:\n",
      "[[21  1  3]\n",
      " [ 0 16  0]\n",
      " [ 4  3 52]]\n"
     ]
    }
   ],
   "source": [
    "# Compute the confusion matrix by nested iteration over classes rather\n",
    "# than over samples (as described above in the Problem 6 introduction).\n",
    "#\n",
    "# Inside the inner loop you could (should):\n",
    "# 1. Create a Boolean array which has True where labels_true equals class_true, False elsewhere\n",
    "# 2. Create a Boolean array which has True where labels_pred equals class_pred, False elsewhere\n",
    "# 3. Do a logical and (np.logical_and) of those arrays, resulting in an array which has True\n",
    "#    where both the above conditions are true.\n",
    "# 4. Count the number of True values using np.sum().\n",
    "# 5. Enter that count into the confusion matrix, \"cm2\".\n",
    "\n",
    "cm2 = np.zeros((3, 3), dtype=int)\n",
    "for class_true in range(3):\n",
    "    for class_pred in range(3):\n",
    "        # YOUR CODE HERE\n",
    "        true_condition = (labels_true == class_true)\n",
    "        pred_condition = (labels_pred == class_pred)\n",
    "        combined_condition = np.logical_and(true_condition, pred_condition)\n",
    "        count = np.sum(combined_condition)\n",
    "        cm2[class_true, class_pred] = count\n",
    "\n",
    "\n",
    "print('\\nConfusion Matrix:')\n",
    "print(cm2)"
   ]
  },
  {
   "cell_type": "code",
   "execution_count": 15,
   "metadata": {
    "deletable": false,
    "editable": false,
    "nbgrader": {
     "cell_type": "code",
     "checksum": "5e7d852380df51e5f33470543bb1a0ba",
     "grade": true,
     "grade_id": "cell-abe4f77242a1ba45",
     "locked": true,
     "points": 4,
     "schema_version": 3,
     "solution": false,
     "task": false
    }
   },
   "outputs": [],
   "source": [
    "## There is no hidden cell for this problem, unlike all the previous problems.\n",
    "assert np.array_equal(cm, cm2)"
   ]
  },
  {
   "cell_type": "markdown",
   "metadata": {},
   "source": [
    "# Grading\n",
    "The following code block is purely used for grading. If you find any error, you can ignore. DO NOT MODIFY THE CODE BLOCK BELOW."
   ]
  },
  {
   "cell_type": "code",
   "execution_count": 16,
   "metadata": {},
   "outputs": [
    {
     "ename": "ModuleNotFoundError",
     "evalue": "No module named 'otter'",
     "output_type": "error",
     "traceback": [
      "\u001b[1;31m---------------------------------------------------------------------------\u001b[0m",
      "\u001b[1;31mModuleNotFoundError\u001b[0m                       Traceback (most recent call last)",
      "Cell \u001b[1;32mIn[16], line 2\u001b[0m\n\u001b[0;32m      1\u001b[0m \u001b[38;5;66;03m# Autograding with Otter Grader\u001b[39;00m\n\u001b[1;32m----> 2\u001b[0m \u001b[38;5;28;01mimport\u001b[39;00m \u001b[38;5;21;01motter\u001b[39;00m\n\u001b[0;32m      3\u001b[0m grader \u001b[38;5;241m=\u001b[39m otter\u001b[38;5;241m.\u001b[39mNotebook()\n\u001b[0;32m      4\u001b[0m grader\u001b[38;5;241m.\u001b[39mcheck_all()\n",
      "\u001b[1;31mModuleNotFoundError\u001b[0m: No module named 'otter'"
     ]
    }
   ],
   "source": [
    "# Autograding with Otter Grader\n",
    "import otter\n",
    "grader = otter.Notebook()\n",
    "grader.check_all()"
   ]
  },
  {
   "cell_type": "markdown",
   "metadata": {
    "deletable": false,
    "editable": false,
    "nbgrader": {
     "cell_type": "markdown",
     "checksum": "483e65acc4062f57f7320d9b4cb0f945",
     "grade": false,
     "grade_id": "cell-75181722913aa756",
     "locked": true,
     "schema_version": 3,
     "solution": false
    }
   },
   "source": [
    "## Feedback"
   ]
  },
  {
   "cell_type": "code",
   "execution_count": null,
   "metadata": {
    "deletable": false,
    "nbgrader": {
     "cell_type": "code",
     "checksum": "ed936ab53a1391c5e6af8df699a1dbf5",
     "grade": false,
     "grade_id": "feedback",
     "locked": false,
     "schema_version": 3,
     "solution": true
    }
   },
   "outputs": [],
   "source": [
    "def feedback():\n",
    "    \"\"\"Provide feedback on the contents of this exercise\n",
    "    \n",
    "    Returns:\n",
    "        string\n",
    "    \"\"\"\n",
    "    # YOUR CODE HERE\n",
    "    return \"No feedback\""
   ]
  },
  {
   "cell_type": "code",
   "execution_count": null,
   "metadata": {
    "deletable": false,
    "editable": false,
    "nbgrader": {
     "cell_type": "code",
     "checksum": "f39f6185a54850c2f1f9b5b2a17b7543",
     "grade": true,
     "grade_id": "feedback-tests",
     "locked": true,
     "points": 0,
     "schema_version": 3,
     "solution": false
    }
   },
   "outputs": [],
   "source": []
  }
 ],
 "metadata": {
  "kernelspec": {
   "display_name": "Python 3 (ipykernel)",
   "language": "python",
   "name": "python3"
  },
  "language_info": {
   "codemirror_mode": {
    "name": "ipython",
    "version": 3
   },
   "file_extension": ".py",
   "mimetype": "text/x-python",
   "name": "python",
   "nbconvert_exporter": "python",
   "pygments_lexer": "ipython3",
   "version": "3.11.4"
  }
 },
 "nbformat": 4,
 "nbformat_minor": 2
}
